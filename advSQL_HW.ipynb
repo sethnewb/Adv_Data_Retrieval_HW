{
 "cells": [
  {
   "cell_type": "markdown",
   "metadata": {},
   "source": [
    "# Section 10: Advanced Data Retrieval HW"
   ]
  },
  {
   "cell_type": "markdown",
   "metadata": {},
   "source": [
    "## Dependencies and Setup"
   ]
  },
  {
   "cell_type": "code",
   "execution_count": 1,
   "metadata": {},
   "outputs": [
    {
     "data": {
      "text/plain": [
       "['measurement', 'station']"
      ]
     },
     "execution_count": 1,
     "metadata": {},
     "output_type": "execute_result"
    }
   ],
   "source": [
    " %matplotlib inline\n",
    "from matplotlib import style\n",
    "style.use('fivethirtyeight')\n",
    "import matplotlib.pyplot as plt\n",
    "import numpy as np\n",
    "import pandas as pd\n",
    "import datetime as dt\n",
    "from datetime import datetime, timedelta\n",
    "\n",
    "# Python SQL toolkit and Object Relational Mapper\n",
    "import sqlalchemy\n",
    "from sqlalchemy.ext.automap import automap_base\n",
    "from sqlalchemy.orm import Session\n",
    "from sqlalchemy import create_engine, func\n",
    "\n",
    "engine = create_engine(\"sqlite:///hawaii.sqlite\")\n",
    "\n",
    "# reflect an existing database into a new model\n",
    "Base = automap_base()\n",
    "# reflect the tables\n",
    "Base.prepare(engine, reflect=True)\n",
    "\n",
    "# We can view all of the classes that automap found\n",
    "Base.classes.keys()"
   ]
  },
  {
   "cell_type": "code",
   "execution_count": 2,
   "metadata": {},
   "outputs": [],
   "source": [
    "# Save references to each table\n",
    "Measurement = Base.classes.measurement\n",
    "Station = Base.classes.station\n",
    "\n",
    "# Create our session (link) from Python to the DB\n",
    "session = Session(engine)"
   ]
  },
  {
   "cell_type": "markdown",
   "metadata": {},
   "source": [
    "## Precipitation Analysis"
   ]
  },
  {
   "cell_type": "code",
   "execution_count": 3,
   "metadata": {},
   "outputs": [
    {
     "data": {
      "text/plain": [
       "([], <a list of 0 Text xticklabel objects>)"
      ]
     },
     "execution_count": 3,
     "metadata": {},
     "output_type": "execute_result"
    },
    {
     "data": {
      "image/png": "[encoded data removed]",
      "text/plain": [
       "<Figure size 432x288 with 1 Axes>"
      ]
     },
     "metadata": {
      "needs_background": "light"
     },
     "output_type": "display_data"
    }
   ],
   "source": [
    "# Identify the last date in the database\n",
    "# Convert the Date into a datetime object \n",
    "# Retrieve that date one year prior\n",
    "date = session.query(Measurement.date).order_by(Measurement.date.desc()).first()\n",
    "datetime_obj = datetime.strptime(date[0], \"%Y-%m-%d\")\n",
    "yearAgo = datetime_obj - timedelta(days=365)\n",
    "\n",
    "# Query every precipitation value one year from the last date\n",
    "precip = session.query(Measurement.date, Measurement.prcp).\\\n",
    "                filter(Measurement.date > yearAgo).all()\n",
    "\n",
    "# Create dataframe from query results\n",
    "# Sort by date\n",
    "# Set date to index\n",
    "# plot the precipitation values\n",
    "labels = [\"Date\", \"Precipitation\"]\n",
    "precipdf = pd.DataFrame(precip, columns=labels)\n",
    "precipdf = precipdf.sort_values(\"Date\")\n",
    "precipdf = precipdf.set_index(\"Date\")\n",
    "precipdf.plot(y=\"Precipitation\")\n",
    "plt.xticks([])"
   ]
  },
  {
   "cell_type": "code",
   "execution_count": 4,
   "metadata": {},
   "outputs": [
    {
     "data": {
      "text/html": [
       "<div>\n",
       "<style scoped>\n",
       "    .dataframe tbody tr th:only-of-type {\n",
       "        vertical-align: middle;\n",
       "    }\n",
       "\n",
       "    .dataframe tbody tr th {\n",
       "        vertical-align: top;\n",
       "    }\n",
       "\n",
       "    .dataframe thead th {\n",
       "        text-align: right;\n",
       "    }\n",
       "</style>\n",
       "<table border=\"1\" class=\"dataframe\">\n",
       "  <thead>\n",
       "    <tr style=\"text-align: right;\">\n",
       "      <th></th>\n",
       "      <th>Precipitation</th>\n",
       "    </tr>\n",
       "  </thead>\n",
       "  <tbody>\n",
       "    <tr>\n",
       "      <th>count</th>\n",
       "      <td>2015.000000</td>\n",
       "    </tr>\n",
       "    <tr>\n",
       "      <th>mean</th>\n",
       "      <td>0.176462</td>\n",
       "    </tr>\n",
       "    <tr>\n",
       "      <th>std</th>\n",
       "      <td>0.460288</td>\n",
       "    </tr>\n",
       "    <tr>\n",
       "      <th>min</th>\n",
       "      <td>0.000000</td>\n",
       "    </tr>\n",
       "    <tr>\n",
       "      <th>25%</th>\n",
       "      <td>0.000000</td>\n",
       "    </tr>\n",
       "    <tr>\n",
       "      <th>50%</th>\n",
       "      <td>0.020000</td>\n",
       "    </tr>\n",
       "    <tr>\n",
       "      <th>75%</th>\n",
       "      <td>0.130000</td>\n",
       "    </tr>\n",
       "    <tr>\n",
       "      <th>max</th>\n",
       "      <td>6.700000</td>\n",
       "    </tr>\n",
       "  </tbody>\n",
       "</table>\n",
       "</div>"
      ],
      "text/plain": [
       "       Precipitation\n",
       "count    2015.000000\n",
       "mean        0.176462\n",
       "std         0.460288\n",
       "min         0.000000\n",
       "25%         0.000000\n",
       "50%         0.020000\n",
       "75%         0.130000\n",
       "max         6.700000"
      ]
     },
     "execution_count": 4,
     "metadata": {},
     "output_type": "execute_result"
    }
   ],
   "source": [
    "#   Pandas summary statistics for dataset\n",
    "\n",
    "precipdf.describe()"
   ]
  },
  {
   "cell_type": "markdown",
   "metadata": {},
   "source": [
    "## Station Analysis"
   ]
  },
  {
   "cell_type": "code",
   "execution_count": 5,
   "metadata": {},
   "outputs": [
    {
     "name": "stdout",
     "output_type": "stream",
     "text": [
      "There are currently 9 stations with collected data.\n"
     ]
    }
   ],
   "source": [
    "# Total Number of Stations\n",
    "\n",
    "stations = session.query(Station.station).group_by(Station.station).count()\n",
    "print(f\"There are currently {stations} stations with collected data.\")"
   ]
  },
  {
   "cell_type": "code",
   "execution_count": 6,
   "metadata": {},
   "outputs": [
    {
     "name": "stdout",
     "output_type": "stream",
     "text": [
      "The most active station is currently USC00519281 with 2772 observations.\n",
      "\n",
      "Current station activity in descending order:\n",
      "1:\n",
      "Station: USC00519281\n",
      "Recorded Observations: 2772\n",
      "\n",
      "2:\n",
      "Station: USC00519397\n",
      "Recorded Observations: 2724\n",
      "\n",
      "3:\n",
      "Station: USC00513117\n",
      "Recorded Observations: 2709\n",
      "\n",
      "4:\n",
      "Station: USC00519523\n",
      "Recorded Observations: 2669\n",
      "\n",
      "5:\n",
      "Station: USC00516128\n",
      "Recorded Observations: 2612\n",
      "\n",
      "6:\n",
      "Station: USC00514830\n",
      "Recorded Observations: 2202\n",
      "\n",
      "7:\n",
      "Station: USC00511918\n",
      "Recorded Observations: 1979\n",
      "\n",
      "8:\n",
      "Station: USC00517948\n",
      "Recorded Observations: 1372\n",
      "\n",
      "9:\n",
      "Station: USC00518838\n",
      "Recorded Observations: 511\n",
      "\n"
     ]
    }
   ],
   "source": [
    "# Most Active Station and all activte stations in descending order\n",
    "\n",
    "mostActive = session.query(Measurement.station, func.count(Measurement.station)).\\\n",
    "                            group_by(Measurement.station).\\\n",
    "                            order_by(func.count(Measurement.station).desc()).all()\n",
    "\n",
    "print(f\"The most active station is currently {mostActive[0][0]} with {mostActive[0][1]} observations.\")\n",
    "print(\"\")\n",
    "print(\"Current station activity in descending order:\")\n",
    "counter = 1\n",
    "for i in mostActive:\n",
    "    print(f\"{counter}:\")\n",
    "    print(f\"Station: {i[0]}\")\n",
    "    print(f\"Recorded Observations: {i[1]}\")\n",
    "    print(\"\")\n",
    "    counter += 1"
   ]
  },
  {
   "cell_type": "code",
   "execution_count": 7,
   "metadata": {},
   "outputs": [
    {
     "data": {
      "text/plain": [
       "<matplotlib.axes._subplots.AxesSubplot at 0x1e524246470>"
      ]
     },
     "execution_count": 7,
     "metadata": {},
     "output_type": "execute_result"
    },
    {
     "data": {
      "image/png": "[encoded data removed]",
      "text/plain": [
       "<Figure size 432x288 with 1 Axes>"
      ]
     },
     "metadata": {
      "needs_background": "light"
     },
     "output_type": "display_data"
    }
   ],
   "source": [
    "# 12 month temperature observations for the top observation station\n",
    "temp = session.query(Measurement.tobs).\\\n",
    "                filter(Measurement.date > yearAgo).\\\n",
    "                filter(Measurement.station == mostActive[0][0]).all()\n",
    "\n",
    "tempdf = pd.DataFrame(temp, columns=[\"Tobs\"])\n",
    "\n",
    "tempdf.plot(kind=\"hist\", bins=12)"
   ]
  }
 ],
 "metadata": {
  "kernelspec": {
   "display_name": "Python 3",
   "language": "python",
   "name": "python3"
  },
  "language_info": {
   "codemirror_mode": {
    "name": "ipython",
    "version": 3
   },
   "file_extension": ".py",
   "mimetype": "text/x-python",
   "name": "python",
   "nbconvert_exporter": "python",
   "pygments_lexer": "ipython3",
   "version": "3.7.1"
  }
 },
 "nbformat": 4,
 "nbformat_minor": 2
}
